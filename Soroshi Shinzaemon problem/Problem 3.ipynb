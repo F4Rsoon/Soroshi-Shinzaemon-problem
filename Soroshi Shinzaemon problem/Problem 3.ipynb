{
 "cells": [
  {
   "cell_type": "markdown",
   "metadata": {},
   "source": [
    "For most adults, a portion of 70-80g of uncooked rice (around 180-200g once cooked) is appropriate for a meal. “This is roughly the size of a fist,” says Ludlam-Raine – far smaller than a portion from your average takeaway. \n",
    "\n",
    "Our activity level plays a key role in determining how much we need.  (source: https://www.telegraph.co.uk/health-fitness/diet/nutrition/healthiest-white-rice/#:~:text=For%20most%20adults%2C%20a%20portion,determining%20how%20much%20we%20need.)\n",
    "\n"
   ]
  },
  {
   "cell_type": "code",
   "execution_count": 5,
   "metadata": {},
   "outputs": [
    {
     "name": "stdout",
     "output_type": "stream",
     "text": [
      "With 1267650600228229401496703205376 grains of rice, 1000 people can live for 126765060022822940149670 days.\n"
     ]
    }
   ],
   "source": [
    "def calculate_days_of_rice(total_rice, num_people):\n",
    "    grains_per_person_per_day = 10000\n",
    "    total_rice_per_day = grains_per_person_per_day * num_people\n",
    "    days = total_rice // total_rice_per_day\n",
    "    return days\n",
    "\n",
    "total_rice = 2**(100)\n",
    "num_people = 1000\n",
    "\n",
    "days_lived = calculate_days_of_rice(total_rice, num_people)\n",
    "print(f\"With {total_rice} grains of rice, {num_people} people can live for {days_lived} days.\")\n"
   ]
  },
  {
   "cell_type": "code",
   "execution_count": null,
   "metadata": {},
   "outputs": [],
   "source": []
  }
 ],
 "metadata": {
  "kernelspec": {
   "display_name": "3.8.13",
   "language": "python",
   "name": "python3"
  },
  "language_info": {
   "codemirror_mode": {
    "name": "ipython",
    "version": 3
   },
   "file_extension": ".py",
   "mimetype": "text/x-python",
   "name": "python",
   "nbconvert_exporter": "python",
   "pygments_lexer": "ipython3",
   "version": "3.8.13"
  }
 },
 "nbformat": 4,
 "nbformat_minor": 2
}
